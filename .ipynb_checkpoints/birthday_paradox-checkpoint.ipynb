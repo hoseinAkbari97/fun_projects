{
 "cells": [
  {
   "cell_type": "code",
   "execution_count": 1,
   "id": "7c347d41-fdec-4945-9d5d-3b3db3481b6d",
   "metadata": {},
   "outputs": [
    {
     "name": "stdin",
     "output_type": "stream",
     "text": [
      " 4\n"
     ]
    },
    {
     "name": "stdout",
     "output_type": "stream",
     "text": [
      "5\n"
     ]
    }
   ],
   "source": [
    "import datetime, random\n",
    "\n",
    "\n",
    "group_size = input('')\n",
    "group_size = int(group_size)\n",
    "# print(group_size + 1)\n",
    "\n",
    "def generate_birthdays(group_size):\n",
    "    birthdays = []\n",
    "    "
   ]
  },
  {
   "cell_type": "code",
   "execution_count": null,
   "id": "32bce0c3-daff-4c29-a96d-6be11966ecea",
   "metadata": {},
   "outputs": [],
   "source": []
  }
 ],
 "metadata": {
  "kernelspec": {
   "display_name": "myenv",
   "language": "python",
   "name": "myenv"
  },
  "language_info": {
   "codemirror_mode": {
    "name": "ipython",
    "version": 3
   },
   "file_extension": ".py",
   "mimetype": "text/x-python",
   "name": "python",
   "nbconvert_exporter": "python",
   "pygments_lexer": "ipython3",
   "version": "3.12.9"
  }
 },
 "nbformat": 4,
 "nbformat_minor": 5
}
